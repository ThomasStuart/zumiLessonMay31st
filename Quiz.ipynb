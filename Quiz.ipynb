{
 "cells": [
  {
   "cell_type": "markdown",
   "metadata": {},
   "source": [
    "#### Q1.) How do you ask a user to enter data from their keyboard, what is the command   ?<br>\n",
    "\n",
    "A.) getKeyboardInput(\"Enter Something: \")  <br>\n",
    "B.) input(\"Enter Something: \")<br>\n",
    "C.) Zumi.getInput(\"Enter Something\" )<br>\n",
    "D.) Python.waitForKeyboard(\"Enter Something\")<br>"
   ]
  },
  {
   "cell_type": "code",
   "execution_count": null,
   "metadata": {},
   "outputs": [],
   "source": [
    "# Q2.) Write code to ask the user to enter a number which will represent the number of routes Zumi will perform\n",
    "\n",
    "#Code goes here \n"
   ]
  },
  {
   "cell_type": "code",
   "execution_count": null,
   "metadata": {},
   "outputs": [],
   "source": [
    "# Q3.) try to print the statement good job ? You CANNOT change any of the lines.  Hint: type cast \n",
    "\n",
    "num = \"1\"  \n",
    "# num = 1  is NOT allowed \n",
    "\n",
    "if num == 1: \n",
    "    print(\"Good job\")\n",
    "else:\n",
    "    print(\"try again\")"
   ]
  },
  {
   "cell_type": "markdown",
   "metadata": {},
   "source": [
    "#### Q4.)  Why is it important to type cast when the user enters something from the keyboard ? <br>\n",
    "\n",
    "A.) type casting is more efficient, code runs faster  <br>\n",
    "B.) type casting turns the input from a string into a integer, that way we can work with numbers  <br>\n",
    "C.) type casting is just a better programming practice, not really necessary  <br>"
   ]
  },
  {
   "cell_type": "code",
   "execution_count": null,
   "metadata": {},
   "outputs": [],
   "source": [
    "# Q5.) Store list1, list2, and list3 into the ListOfLists\n",
    "\n",
    "list1 = ['Hello', 'World', ',']\n",
    "list2 = ['I', 'Am', 'A']\n",
    "list3 = ['List', 'Of', 'Lists']\n",
    "\n",
    "ListOfLists = []\n"
   ]
  },
  {
   "cell_type": "code",
   "execution_count": null,
   "metadata": {},
   "outputs": [],
   "source": [
    "# Q6.) Use for loops to print out the following using ONLY the list \"ListOfLists\". \n",
    "\n",
    "# Hello World , \n",
    "# I Am A\n",
    "# List Of Lists\n"
   ]
  },
  {
   "cell_type": "code",
   "execution_count": null,
   "metadata": {},
   "outputs": [],
   "source": [
    "# Q7.)  Display question 6's text on Zumi's screen "
   ]
  },
  {
   "cell_type": "code",
   "execution_count": null,
   "metadata": {},
   "outputs": [],
   "source": [
    "# Q8.) write the function so that \n",
    "\n",
    "def keepAskingUntilValid( letter):\n",
    "    valid    = ['a', 'i', 'x']\n",
    "    attempts = 0 \n",
    "    #write code here \n",
    "    \n",
    "\n",
    "a1 = keepAskingUntilValid('a')\n",
    "a2 = keepAskingUntilValid('f') # should keep asking user to input stuff\n",
    "a3 = keepAskingUntilValid('x')\n",
    "\n",
    "print(\"Attempts for 'a': \")\n",
    "print(\"Attempts for 'b': \")\n",
    "print(\"Attempts for 'x': \")"
   ]
  },
  {
   "cell_type": "code",
   "execution_count": null,
   "metadata": {},
   "outputs": [],
   "source": [
    "# Q9.) write code. \n",
    "# Helpful links:  http://docs.robolink.com/zumi-library\n",
    "#                 https://edu.workbencheducation.com/cwists/preview/42923x\n",
    "from zumi.zumi import Zumi\n",
    "from zumi.util.screen import Screen\n",
    "\n",
    "zumi = Zumi()\n",
    "screen = Screen()\n",
    "\n",
    "# display sad emotion \n",
    "# drive forward for 2 seconds\n",
    "# display happy emotion "
   ]
  },
  {
   "cell_type": "code",
   "execution_count": null,
   "metadata": {},
   "outputs": [],
   "source": [
    "# Q10.) Run the code and check where the file exists \n",
    "import PIL.Image\n",
    "import IPython.display\n",
    "from zumi.zumi import Zumi\n",
    "from zumi.util.camera import Camera\n",
    "\n",
    "zumi = Zumi()\n",
    "camera = Camera()\n",
    "\n",
    "try:\n",
    "    camera.start_camera()\n",
    "    \n",
    "    #take a picture\n",
    "    image = camera.capture()\n",
    "\n",
    "    #this is for saving images you have already taken \n",
    "    #or if you want save modified images\n",
    "    camera.save_image(image,\"test2\")\n",
    "finally:\n",
    "    camera.close()\n",
    "    print(\"done\")\n",
    "IPython.display.Image(\"test2.jpg\")"
   ]
  },
  {
   "cell_type": "code",
   "execution_count": null,
   "metadata": {},
   "outputs": [],
   "source": []
  }
 ],
 "metadata": {
  "kernelspec": {
   "display_name": "Python 3",
   "language": "python",
   "name": "python3"
  },
  "language_info": {
   "codemirror_mode": {
    "name": "ipython",
    "version": 3
   },
   "file_extension": ".py",
   "mimetype": "text/x-python",
   "name": "python",
   "nbconvert_exporter": "python",
   "pygments_lexer": "ipython3",
   "version": "3.5.3"
  }
 },
 "nbformat": 4,
 "nbformat_minor": 2
}
