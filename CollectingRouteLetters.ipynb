{
 "cells": [
  {
   "cell_type": "code",
   "execution_count": 3,
   "metadata": {},
   "outputs": [
    {
     "name": "stdout",
     "output_type": "stream",
     "text": [
      "Enter number of routes you want to run in Graph:  5\n",
      "Vertices: [ b, s, a, x, ]\n",
      "Input a starting Vertex:  a\n",
      "a\n",
      "Input a ending Vertex:  b\n",
      "b\n",
      "Route # 1\n",
      "\t Next Vertex: x\n",
      "Entered route, from  b  to  x\n",
      "Route # 1\n",
      "\t Next Vertex: s\n",
      "Entered route, from  x  to  s\n",
      "Route # 1\n",
      "\t Next Vertex: q\n",
      "Exited Early beacause of quit Keyword 'Q' or 'q' \n",
      "total Num of t 0\n",
      "['a', 'b', 'x', 's']\n"
     ]
    }
   ],
   "source": [
    "def isQuitKeyword( string ):\n",
    "    # try to determine if the string contains a Q, neglecting capitalizations and spaces \n",
    "    for i in range(0, len(string)):\n",
    "        if( string[i] == 'q' or string[i] == 'Q'):\n",
    "            return True \n",
    "    return False\n",
    "\n",
    "def load_route( dictionary ):\n",
    "    routes         = [] #this will hold a queue of routes we enter\n",
    "    lettersEntered = [] # EMPTY LIST\n",
    "    \n",
    "    #Ask the user how many routes they want to input ? \n",
    "    numRoutes =  input(\"Enter number of routes you want to run in Graph:  \")\n",
    "    numRoutes =  int(numRoutes) #converts string value to integer \n",
    "    \n",
    "    # Displays the valid vertices in the graph \n",
    "    print(\"Vertices: [ \", end='')\n",
    "    # first print all the keys = letters out to the console \n",
    "    for key in dictionary:\n",
    "        print(key, end=', ')\n",
    "    print(\"]\")\n",
    "    \n",
    "    # prompt the user to enter a startNode\n",
    "    startVertex = input(\"Input a starting Vertex:  \")\n",
    "    \n",
    "    while startVertex not in dictionary:\n",
    "        print(\"You entered an INVALID vertex \")\n",
    "        startVertex = input(\"Input a starting Vertex again:  \")\n",
    "    \n",
    "    # print what the user entered\n",
    "    print(startVertex)\n",
    "    lettersEntered.append(startVertex)\n",
    "    \n",
    "    # prompt the user to enter a endNode \n",
    "    endVertex = input(\"Input a ending Vertex:  \")\n",
    "    \n",
    "    while endVertex not in dictionary:\n",
    "        print(\"You entered an INVALID vertex \")\n",
    "        endVertex = input(\"Input a end Vertex again:  \")\n",
    "    \n",
    "    # print what the user entered\n",
    "    print( endVertex )\n",
    "    lettersEntered.append(endVertex)\n",
    "    \n",
    "    #routes.append( G.search(startVertex, endVertex)  ) # First route was added to the routes container \n",
    "    \n",
    "    for i in range(0, numRoutes-1):\n",
    "        startVertex = endVertex\n",
    "        print(\"Route #\", len(routes)+1 )\n",
    "        endVertex = input(\"\\t Next Vertex: \")   \n",
    "        \n",
    "        if isQuitKeyword(endVertex):\n",
    "            print(\"Exited Early beacause of quit Keyword 'Q' or 'q' \")\n",
    "            break\n",
    "        \n",
    "        print(\"Entered route, from \", startVertex , \" to \", endVertex)\n",
    "        #routes.append( G.search(startVertex, endVertex) )\n",
    "        lettersEntered.append(endVertex)\n",
    "    \n",
    "    print(\"total Num of t\", len(routes))\n",
    "    return routes, lettersEntered\n",
    "\n",
    "dictionary1 = {'s':1, 'x':2, 'a':3, 'b':4}\n",
    "routes, newList = load_route(dictionary1)\n",
    "print(newList)"
   ]
  },
  {
   "cell_type": "code",
   "execution_count": 24,
   "metadata": {},
   "outputs": [],
   "source": [
    "def turnListIntoStringOfDestinations( List ):\n",
    "    sentence = \"\"\n",
    "    \n",
    "    # lastIndex = 1\n",
    "    lastIndex   = len(List) - 1\n",
    "\n",
    "\n",
    "    for currIndex in range( 0, len(List) ):\n",
    "        # currIndex == 0 -> List[0] -> Robo\n",
    "        # currIndex == 1 -> List[1] -> Link\n",
    "\n",
    "        #        0         ==        1      -> FALSE  \n",
    "        #        1         ==        1      -> TRUE   \n",
    "        if  currIndex      ==     lastIndex :\n",
    "            #1: where all TRUE statements  go   \n",
    "            sentence += List[currIndex] \n",
    "        else:\n",
    "            #2: where all FALSE statements go \n",
    "            sentence += List[currIndex] + \" -> \"\n",
    "        \n",
    "        \n",
    "    return sentence"
   ]
  },
  {
   "cell_type": "code",
   "execution_count": 25,
   "metadata": {},
   "outputs": [
    {
     "name": "stdout",
     "output_type": "stream",
     "text": [
      "a -> x -> b -> s\n",
      "1 -> 2 -> 3\n",
      "Robo -> Link\n"
     ]
    }
   ],
   "source": [
    "letterEntered1 = ['a', 'x', 'b', 's']   \n",
    "letterEntered2 = ['1', '2', '3']\n",
    "letterEntered3 = ['Robo', 'Link' ]\n",
    "\n",
    "print(  turnListIntoStringOfDestinations(letterEntered1) ) # a -> x -> b -> s\n",
    "print(  turnListIntoStringOfDestinations(letterEntered2) ) # 1 -> 2 -> 3 \n",
    "print(  turnListIntoStringOfDestinations(letterEntered3) ) # Robo -> Link "
   ]
  },
  {
   "cell_type": "code",
   "execution_count": null,
   "metadata": {},
   "outputs": [],
   "source": [
    "# currIndex == 1 -> List[1] -> Link "
   ]
  },
  {
   "cell_type": "code",
   "execution_count": null,
   "metadata": {},
   "outputs": [],
   "source": [
    "def turnListIntoStringOfDestinations( List ):\n",
    "    sentence = \"\"\n",
    "    lastIndex   = len(List) - 1\n",
    "\n",
    "\n",
    "    for currIndex in range( 0, len(List) ):  \n",
    "        if  currIndex      ==     lastIndex :\n",
    "            sentence += List[currIndex] \n",
    "        else:\n",
    "            sentence += List[currIndex] + \" -> \"\n",
    "        \n",
    "        \n",
    "    return sentence"
   ]
  },
  {
   "cell_type": "code",
   "execution_count": 32,
   "metadata": {},
   "outputs": [],
   "source": [
    "#Python code\n",
    "from zumi.util.screen import Screen\n",
    "import time\n",
    "screen=Screen()\n",
    "\n",
    "\n",
    "\n",
    "letterEntered1 = ['a', 'x', 'b', 's', 'a'] \n",
    "whatever        = turnListIntoStringOfDestinations( letterEntered1 )\n",
    "\n",
    "\n",
    "screen.draw_text( whatever  )\n",
    "\n",
    "# a -> x -> b -> s "
   ]
  },
  {
   "cell_type": "code",
   "execution_count": null,
   "metadata": {},
   "outputs": [],
   "source": []
  }
 ],
 "metadata": {
  "kernelspec": {
   "display_name": "Python 3",
   "language": "python",
   "name": "python3"
  },
  "language_info": {
   "codemirror_mode": {
    "name": "ipython",
    "version": 3
   },
   "file_extension": ".py",
   "mimetype": "text/x-python",
   "name": "python",
   "nbconvert_exporter": "python",
   "pygments_lexer": "ipython3",
   "version": "3.5.3"
  }
 },
 "nbformat": 4,
 "nbformat_minor": 2
}
