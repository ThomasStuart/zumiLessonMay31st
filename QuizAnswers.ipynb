{
 "cells": [
  {
   "cell_type": "markdown",
   "metadata": {},
   "source": [
    "#### Q1.) How do you ask a user to enter data from their keyboard, what is the command   ?<br>\n",
    "\n",
    "A.) getKeyboardInput(\"Enter Something: \")  <br>\n",
    "B.) input(\"Enter Something: \")  <br>\n",
    "C.) Zumi.getInput(\"Enter Something\" )<br>\n",
    "D.) Python.waitForKeyboard(\"Enter Something\")<br>\n",
    "\n",
    "## Answer: B "
   ]
  },
  {
   "cell_type": "code",
   "execution_count": 3,
   "metadata": {},
   "outputs": [
    {
     "name": "stdout",
     "output_type": "stream",
     "text": [
      "input a number of routes Zumi should perform:  10\n",
      "10\n"
     ]
    }
   ],
   "source": [
    "# Q2.) Write code to ask the user to enter a number which will represent the number of routes Zumi will perform.\n",
    "# print it to the console. \n",
    "\n",
    "#Code goes here \n",
    "num = input(\"input a number of routes Zumi should perform:  \")\n",
    "print( num )"
   ]
  },
  {
   "cell_type": "code",
   "execution_count": 8,
   "metadata": {},
   "outputs": [
    {
     "name": "stdout",
     "output_type": "stream",
     "text": [
      "Good job\n"
     ]
    }
   ],
   "source": [
    "# Q3.) try to print the statement good job ? You CANNOT change any of the lines.  Hint: type cast \n",
    "\n",
    "num = \"1\"  \n",
    "# num = 1  is NOT allowed \n",
    "num = int(num)  # converting string \"1\" into the integer version 1 \n",
    "\n",
    "#print(type(num))\n",
    "\n",
    "if num == 1: \n",
    "    print(\"Good job\")\n",
    "else:\n",
    "    print(\"try again\")"
   ]
  },
  {
   "cell_type": "markdown",
   "metadata": {},
   "source": [
    "#### Q4.)  Why is it important to type cast when the user enters something from the keyboard ? <br>\n",
    "\n",
    "A.) type casting is more efficient, code runs faster  <br>\n",
    "B.) type casting turns the input from a string into a integer, that way we can work with numbers  <br>\n",
    "C.) type casting is just a better programming practice, not really necessary  <br>\n",
    "\n",
    "## Answer: B"
   ]
  },
  {
   "cell_type": "code",
   "execution_count": 10,
   "metadata": {},
   "outputs": [
    {
     "name": "stdout",
     "output_type": "stream",
     "text": [
      "[['Hello', 'World', ','], ['I', 'Am', 'A'], ['List', 'Of', 'Lists']]\n"
     ]
    }
   ],
   "source": [
    "# Q5.) Store list1, list2, and list3 into the ListOfLists\n",
    "\n",
    "list1 = ['Hello', 'World', ',']\n",
    "list2 = ['I', 'Am', 'A']\n",
    "list3 = ['List', 'Of', 'Lists']\n",
    "\n",
    "ListOfLists = []\n",
    "\n",
    "# Method 1: \n",
    "\n",
    "#ListOfLists.append(list1)\n",
    "#ListOfLists.append(list2)\n",
    "#ListOfLists.append(list3)\n",
    "\n",
    "# Method 2:\n",
    "ListOfLists = [list1,list2,list3]\n",
    "\n",
    "print( ListOfLists)"
   ]
  },
  {
   "cell_type": "code",
   "execution_count": 17,
   "metadata": {},
   "outputs": [
    {
     "name": "stdout",
     "output_type": "stream",
     "text": [
      "Hello World , \n",
      "I Am A \n",
      "List Of Lists \n"
     ]
    }
   ],
   "source": [
    "# Q6.) Use for loops to print out the following using ONLY the list \"ListOfLists\". \n",
    "\n",
    "\n",
    "# Hello World , \n",
    "# I Am A\n",
    "# List Of Lists\n",
    "\n",
    "\n",
    "\n",
    "for i in range( 0, len(ListOfLists) ):\n",
    "    # i == 0, ListOfLists[0] = list1 \n",
    "    # i == 1, ListOfLists[1] = list2\n",
    "    # i == 2, ListOfLists[2] = list3 \n",
    "    currList = ListOfLists[i] \n",
    "    \n",
    "    for j in range(0, len(currList)):\n",
    "        # currList = list1 ] == ['Hello', 'World', ',']\n",
    "        print(currList[j] , end=' ')\n",
    "    \n",
    "    print()\n",
    "    \n",
    "# for i in range(0,1):\n",
    "#     print(ListOfLists[0])\n",
    "#     print(ListOfLists[1])\n",
    "#     print(ListOfLists[2])\n"
   ]
  },
  {
   "cell_type": "code",
   "execution_count": 32,
   "metadata": {},
   "outputs": [],
   "source": [
    "# Q7.)  Display question 6's text on Zumi's screen \n",
    "\n",
    "\n",
    "from zumi.util.screen import Screen\n",
    "import time\n",
    "\n",
    "screen=Screen()\n",
    "\n",
    "x = 0\n",
    "y = 15\n",
    "\n",
    "for i in range( 0, len(ListOfLists) ):\n",
    "    currList = ListOfLists[i] \n",
    "    \n",
    "    s = \"\"\n",
    "    for j in range(0, len(currList)):\n",
    "        s += \" \" + currList[j] \n",
    "    \n",
    "    screen.draw_text( s, x, y ) \n",
    "    time.sleep(0.5)\n",
    "\n",
    "\n",
    "screen.clear_display()"
   ]
  },
  {
   "cell_type": "code",
   "execution_count": 37,
   "metadata": {},
   "outputs": [
    {
     "name": "stdout",
     "output_type": "stream",
     "text": [
      "enter another lettert\n",
      "enter another lettery\n",
      "enter another letteri\n",
      "Attempts for 'a':  1\n",
      "Attempts for 'b':  4\n",
      "Attempts for 'x':  1\n"
     ]
    }
   ],
   "source": [
    "# Q8.) write the function so that \n",
    "\n",
    "def keepAskingUntilValid( letter ):\n",
    "    validList    = ['a', 'i', 'x']\n",
    "    attempts = 1\n",
    "    \n",
    "    if letter in validList:\n",
    "        return attempts\n",
    "\n",
    "\n",
    "    # while the letter is not in the list 'validList'\n",
    "    while letter not in validList :\n",
    "        letter    = input(\"enter another letter\")\n",
    "        attempts  = attempts + 1\n",
    "        \n",
    "    \n",
    "    return attempts\n",
    "\n",
    "a1 = keepAskingUntilValid('a') # -> a1 = 1\n",
    "a2 = keepAskingUntilValid('f') #  user_types = 't' , user_types = 'y' , user_types = 'i'  -> a2 = 4\n",
    "a3 = keepAskingUntilValid('x') # -> a3 = 1\n",
    "\n",
    "print(\"Attempts for 'a': \", a1)\n",
    "print(\"Attempts for 'b': \", a2)\n",
    "print(\"Attempts for 'x': \", a3)"
   ]
  },
  {
   "cell_type": "code",
   "execution_count": 41,
   "metadata": {},
   "outputs": [
    {
     "name": "stdout",
     "output_type": "stream",
     "text": [
      "Starting Zumi \n",
      "Pi Zero I2C is available\n",
      "Verified Pi Zero is the same\n",
      "Gyroscope previously calibrated\n",
      "Zumi board detected\n",
      "OLED Screen detected\n",
      "Gyroscope & Accelerometer detected\n"
     ]
    }
   ],
   "source": [
    "# Q9.) write code. \n",
    "# Helpful links:  http://docs.robolink.com/zumi-library\n",
    "#                 https://edu.workbencheducation.com/cwists/preview/42923x\n",
    "from zumi.zumi import Zumi\n",
    "from zumi.util.screen import Screen\n",
    "\n",
    "zumi = Zumi()\n",
    "screen = Screen()\n",
    "\n",
    "POWER = 40\n",
    "\n",
    "# display sad emotion \n",
    "screen.sad()\n",
    "\n",
    "# drive forward for 2 seconds\n",
    "time = 2\n",
    "zumi.forward(POWER,time)\n",
    "\n",
    "# display happy emotion \n",
    "screen.happy()"
   ]
  },
  {
   "cell_type": "code",
   "execution_count": 42,
   "metadata": {},
   "outputs": [
    {
     "name": "stdout",
     "output_type": "stream",
     "text": [
      "Starting Zumi \n",
      "Pi Zero I2C is available\n",
      "Verified Pi Zero is the same\n",
      "Gyroscope previously calibrated\n",
      "Zumi board detected\n",
      "OLED Screen detected\n",
      "Gyroscope & Accelerometer detected\n",
      "Starting PiCamera\n",
      "Saved photo at: /home/pi/Dashboard/user/Thomas/Zumi_Content_en/Lesson/test2.jpg\n",
      "Closing PiCamera\n",
      "done\n"
     ]
    },
    {
     "data": {
      "image/jpeg": "[encoded data removed]",
      "text/plain": [
       "<IPython.core.display.Image object>"
      ]
     },
     "execution_count": 42,
     "metadata": {},
     "output_type": "execute_result"
    }
   ],
   "source": [
    "# Q10.) Run the code and check where the file exists \n",
    "\n",
    "import PIL.Image\n",
    "import IPython.display\n",
    "from zumi.zumi import Zumi\n",
    "from zumi.util.camera import Camera\n",
    "\n",
    "zumi = Zumi()\n",
    "camera = Camera()\n",
    "\n",
    "try:\n",
    "    camera.start_camera()\n",
    "    \n",
    "    #take a picture\n",
    "    image = camera.capture()\n",
    "\n",
    "    #this is for saving images you have already taken \n",
    "    #or if you want save modified images\n",
    "    camera.save_image(image,\"test2\")\n",
    "finally:\n",
    "    camera.close()\n",
    "    print(\"done\")\n",
    "IPython.display.Image(\"test2.jpg\")"
   ]
  },
  {
   "cell_type": "code",
   "execution_count": null,
   "metadata": {},
   "outputs": [],
   "source": []
  }
 ],
 "metadata": {
  "kernelspec": {
   "display_name": "Python 3",
   "language": "python",
   "name": "python3"
  },
  "language_info": {
   "codemirror_mode": {
    "name": "ipython",
    "version": 3
   },
   "file_extension": ".py",
   "mimetype": "text/x-python",
   "name": "python",
   "nbconvert_exporter": "python",
   "pygments_lexer": "ipython3",
   "version": "3.5.3"
  }
 },
 "nbformat": 4,
 "nbformat_minor": 2
}
